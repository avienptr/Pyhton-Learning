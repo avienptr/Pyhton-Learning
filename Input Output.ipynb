{
 "cells": [
  {
   "cell_type": "markdown",
   "id": "b62ccde4-dc1f-4ad8-a8df-60c6f042f28d",
   "metadata": {},
   "source": [
    "Write a program to accept two numbers from the user and calculate multiplication"
   ]
  },
  {
   "cell_type": "code",
   "execution_count": 4,
   "id": "ac208d86-4722-4a80-a16a-fd660c538d4c",
   "metadata": {},
   "outputs": [
    {
     "name": "stdin",
     "output_type": "stream",
     "text": [
      "First number:  20\n",
      "Second number:  30\n"
     ]
    },
    {
     "name": "stdout",
     "output_type": "stream",
     "text": [
      "Your multiplication result is:  600\n"
     ]
    }
   ],
   "source": [
    "mult1 = int(input('First number: '))\n",
    "mult2 = int(input('Second number: '))\n",
    "multresult = mult1 * mult2\n",
    "print('Your multiplication result is: ', multresult)"
   ]
  },
  {
   "cell_type": "markdown",
   "id": "94f8a7e4-0127-4912-ac25-248a82c6d80e",
   "metadata": {},
   "source": [
    "Display three string “Name”, “Is”, “James” as “Name**Is**James”\n",
    "Use the print() function to format the given words in the mentioned format. Display the ** separator between each string."
   ]
  },
  {
   "cell_type": "code",
   "execution_count": 6,
   "id": "b703c9e2-cbd8-4d2e-b81d-74dcacdfb569",
   "metadata": {},
   "outputs": [
    {
     "name": "stdout",
     "output_type": "stream",
     "text": [
      "Name**Is**James\n"
     ]
    }
   ],
   "source": [
    "print('Name', 'Is', 'James', sep='**')"
   ]
  },
  {
   "cell_type": "markdown",
   "id": "8a770426-2acf-4f06-9eb7-dd7898724a54",
   "metadata": {},
   "source": [
    "Convert Decimal number to octal using print() output formatting\n",
    "Given:\n",
    "\n",
    "num = 8"
   ]
  },
  {
   "cell_type": "code",
   "execution_count": 9,
   "id": "c7b1efe5-7ade-483d-a53b-fe03ec0b87df",
   "metadata": {},
   "outputs": [
    {
     "name": "stdout",
     "output_type": "stream",
     "text": [
      "14\n"
     ]
    }
   ],
   "source": [
    "numoct = 12\n",
    "print('%o' % numoct)"
   ]
  },
  {
   "cell_type": "markdown",
   "id": "952e3386-2151-4d24-b5f7-3334737f96a5",
   "metadata": {},
   "source": [
    "Display float number with 2 decimal places using print()\n",
    "Given:\n",
    "\n",
    "num = 458.541315"
   ]
  },
  {
   "cell_type": "code",
   "execution_count": 13,
   "id": "4fb1e774-91df-4ccb-b495-872b8e6090c0",
   "metadata": {},
   "outputs": [
    {
     "name": "stdout",
     "output_type": "stream",
     "text": [
      "458.54\n"
     ]
    }
   ],
   "source": [
    "fltnum = 458.541315\n",
    "print('{:.2f}'.format(fltnum))"
   ]
  },
  {
   "cell_type": "markdown",
   "id": "f634ddff-eb74-458d-9866-d74183e8fb29",
   "metadata": {},
   "source": [
    "Accept a list of 5 float numbers as an input from the user"
   ]
  },
  {
   "cell_type": "code",
   "execution_count": 17,
   "id": "7a9f9249-87ce-4770-aa40-c7a9d7f77752",
   "metadata": {},
   "outputs": [
    {
     "name": "stdout",
     "output_type": "stream",
     "text": [
      "Insert at index 0 :\n"
     ]
    },
    {
     "name": "stdin",
     "output_type": "stream",
     "text": [
      " 1.2\n"
     ]
    },
    {
     "name": "stdout",
     "output_type": "stream",
     "text": [
      "Insert at index 1 :\n"
     ]
    },
    {
     "name": "stdin",
     "output_type": "stream",
     "text": [
      " 2.3\n"
     ]
    },
    {
     "name": "stdout",
     "output_type": "stream",
     "text": [
      "Insert at index 2 :\n"
     ]
    },
    {
     "name": "stdin",
     "output_type": "stream",
     "text": [
      " 4.5\n"
     ]
    },
    {
     "name": "stdout",
     "output_type": "stream",
     "text": [
      "Insert at index 3 :\n"
     ]
    },
    {
     "name": "stdin",
     "output_type": "stream",
     "text": [
      " 5.22\n"
     ]
    },
    {
     "name": "stdout",
     "output_type": "stream",
     "text": [
      "Insert at index 4 :\n"
     ]
    },
    {
     "name": "stdin",
     "output_type": "stream",
     "text": [
      " 4.2\n"
     ]
    },
    {
     "name": "stdout",
     "output_type": "stream",
     "text": [
      "Your List:  [1.2, 2.3, 4.5, 5.22, 4.2]\n"
     ]
    }
   ],
   "source": [
    "fltlist = []\n",
    "for i in range (0,5):\n",
    "    print('Insert at index {} :'.format(i))\n",
    "    fltitem = float(input())\n",
    "    fltlist.append(fltitem)\n",
    "print('Your List: ',fltlist)"
   ]
  },
  {
   "cell_type": "markdown",
   "id": "cfc96baa-c125-4c63-8eac-2a0a0b437bac",
   "metadata": {},
   "source": [
    "Accept any three string from one input() call\n",
    "Write a program to take three names as input from a user in the single input() function call."
   ]
  },
  {
   "cell_type": "code",
   "execution_count": 23,
   "id": "0bc42306-7772-4ad2-82c0-2f1075f56f5e",
   "metadata": {},
   "outputs": [
    {
     "name": "stdin",
     "output_type": "stream",
     "text": [
      "Enter three string innit down bad\n"
     ]
    },
    {
     "name": "stdout",
     "output_type": "stream",
     "text": [
      "Name1: innit\n",
      "Name2: down\n",
      "Name3: bad\n"
     ]
    }
   ],
   "source": [
    "str1, str2, str3 = input(\"Enter three string\").split()\n",
    "print('Name1:', str1)\n",
    "print('Name2:', str2)\n",
    "print('Name3:', str3)"
   ]
  },
  {
   "cell_type": "markdown",
   "id": "eda37dc1-bc97-48b1-a494-ceb3edf6e9c6",
   "metadata": {},
   "source": [
    "Format variables using a string.format() method.\n",
    "Write a program to use string.format() method to format the following three variables as per the expected output\n",
    "Given:\n",
    "totalMoney = 1000\n",
    "quantity = 3\n",
    "price = 450"
   ]
  },
  {
   "cell_type": "code",
   "execution_count": 25,
   "id": "2e374448-f280-4eff-898a-c07b5d785a09",
   "metadata": {},
   "outputs": [
    {
     "name": "stdout",
     "output_type": "stream",
     "text": [
      "I have 1000 dollars so I can buy 3 football for 450 dollars.\n"
     ]
    }
   ],
   "source": [
    "totalMoney = 1000\n",
    "quantity = 3\n",
    "price = 450\n",
    "print('I have {} dollars so I can buy {} football for {} dollars.'.format(totalMoney, quantity, price))"
   ]
  },
  {
   "cell_type": "code",
   "execution_count": null,
   "id": "70141c29-cfbf-444f-975d-53283150e40c",
   "metadata": {},
   "outputs": [],
   "source": []
  }
 ],
 "metadata": {
  "kernelspec": {
   "display_name": "Python 3 (ipykernel)",
   "language": "python",
   "name": "python3"
  },
  "language_info": {
   "codemirror_mode": {
    "name": "ipython",
    "version": 3
   },
   "file_extension": ".py",
   "mimetype": "text/x-python",
   "name": "python",
   "nbconvert_exporter": "python",
   "pygments_lexer": "ipython3",
   "version": "3.9.13"
  }
 },
 "nbformat": 4,
 "nbformat_minor": 5
}
