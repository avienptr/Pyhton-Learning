{
 "cells": [
  {
   "cell_type": "markdown",
   "id": "793bbabe-5177-4413-91f8-03c1a5ec1a92",
   "metadata": {},
   "source": [
    "Create a function in Python\n",
    "Write a program to create a function that takes two arguments, name and age, and print their value."
   ]
  },
  {
   "cell_type": "code",
   "execution_count": 1,
   "id": "85270d7a-9810-41ef-b9d7-36f0e8a59b75",
   "metadata": {},
   "outputs": [
    {
     "name": "stdout",
     "output_type": "stream",
     "text": [
      "asd 20\n"
     ]
    }
   ],
   "source": [
    "def demo(name, age):\n",
    "    print(name, age)\n",
    "demo('asd', 20)"
   ]
  },
  {
   "cell_type": "markdown",
   "id": "008081a9-2796-472c-9bee-f08c6641faed",
   "metadata": {},
   "source": [
    "Create a function with variable length of arguments\n",
    "Write a program to create function func1() to accept a variable length of arguments and print their value.\n",
    "\n",
    "Note: Create a function in such a way that we can pass any number of arguments to this function, and the function should process them and display each argument’s value."
   ]
  },
  {
   "cell_type": "code",
   "execution_count": 4,
   "id": "adae55b4-50f9-4d9a-bd24-10e3e3f0c182",
   "metadata": {},
   "outputs": [
    {
     "name": "stdout",
     "output_type": "stream",
     "text": [
      "20\n",
      "40\n",
      "60\n",
      "80\n",
      "100\n"
     ]
    }
   ],
   "source": [
    "def func1(*args):\n",
    "    for i in args:\n",
    "        print(i)\n",
    "func1(20, 40, 60)\n",
    "func1(80, 100)"
   ]
  },
  {
   "cell_type": "markdown",
   "id": "7031fc2f-99b4-49ea-a4f1-cff186e8527b",
   "metadata": {},
   "source": [
    "Return multiple values from a function\n",
    "Write a program to create function calculation() such that it can accept two variables and calculate addition and subtraction. Also, it must return both addition and subtraction in a single return call.\n",
    "\n",
    "Given:\n",
    "\n",
    "def calculation(a, b):\n",
    "    # Your Code\n",
    "\n",
    "res = calculation(40, 10)\n",
    "print(res)"
   ]
  },
  {
   "cell_type": "code",
   "execution_count": 6,
   "id": "855e8b61-8375-445b-906b-1396831acb36",
   "metadata": {},
   "outputs": [
    {
     "name": "stdout",
     "output_type": "stream",
     "text": [
      "(50, 30)\n"
     ]
    }
   ],
   "source": [
    "def calculation(a, b):\n",
    "    addition = a + b\n",
    "    subtraction = a -b\n",
    "    return addition, subtraction\n",
    "res = calculation(40, 10)\n",
    "print(res)"
   ]
  },
  {
   "cell_type": "markdown",
   "id": "b7db823c-d95b-41ac-a0ba-9d249fe25560",
   "metadata": {},
   "source": [
    "Create a function with a default argument\n",
    "Write a program to create a function show_employee() using the following conditions.\n",
    "\n",
    "It should accept the employee’s name and salary and display both.\n",
    "If the salary is missing in the function call then assign default value 9000 to salary"
   ]
  },
  {
   "cell_type": "code",
   "execution_count": 8,
   "id": "82d13ce4-8910-4898-b532-51dce04fd0f7",
   "metadata": {},
   "outputs": [
    {
     "name": "stdout",
     "output_type": "stream",
     "text": [
      "Name: Ben Salary: 12000\n",
      "Name: Jessa Salary: 9000\n"
     ]
    }
   ],
   "source": [
    "def showEmployee(name, salary=9000):\n",
    "    print('Name: {} Salary: {}'.format(name, salary))\n",
    "showEmployee(\"Ben\", 12000)\n",
    "showEmployee(\"Jessa\")"
   ]
  },
  {
   "cell_type": "markdown",
   "id": "fa0f31bf-9182-4cbc-8358-ec8ea176d581",
   "metadata": {},
   "source": [
    "Create an inner function to calculate the addition in the following way\n",
    "\n",
    "Create an outer function that will accept two parameters, a and b\n",
    "Create an inner function inside an outer function that will calculate the addition of a and b\n",
    "At last, an outer function will add 5 into addition and return it"
   ]
  },
  {
   "cell_type": "code",
   "execution_count": 10,
   "id": "610837f4-bcf9-44bb-877b-d4659ca85cb1",
   "metadata": {},
   "outputs": [
    {
     "name": "stdout",
     "output_type": "stream",
     "text": [
      "20\n"
     ]
    }
   ],
   "source": [
    "def outerf(a, b):\n",
    "    square = a ** 2\n",
    "    def addition(a, b):\n",
    "        return a + b\n",
    "    add = addition(a, b)\n",
    "    return add + 5\n",
    "result = outerf(5, 10)\n",
    "print(result)"
   ]
  },
  {
   "cell_type": "markdown",
   "id": "fdd7c14c-5056-4e54-95bd-f63a102dba10",
   "metadata": {},
   "source": [
    "Write a program to create a recursive function to calculate the sum of numbers from 0 to 10.\n",
    "\n",
    "A recursive function is a function that calls itself again and again.\n",
    "\n",
    "Expected Output:\n",
    "\n",
    "55"
   ]
  },
  {
   "cell_type": "code",
   "execution_count": 11,
   "id": "e9d85ffd-dd84-4825-845a-891df7cce4f6",
   "metadata": {},
   "outputs": [
    {
     "name": "stdout",
     "output_type": "stream",
     "text": [
      "55\n"
     ]
    }
   ],
   "source": [
    "def recr(num):\n",
    "    if num:\n",
    "        return num + recr(num - 1)\n",
    "    else:\n",
    "        return 0\n",
    "res = recr(10)\n",
    "print(res)"
   ]
  },
  {
   "cell_type": "markdown",
   "id": "1522f8db-4a76-493c-a79b-d106515b27e7",
   "metadata": {},
   "source": [
    "Below is the function display_student(name, age). Assign a new name show_tudent(name, age) to it and call it using the new name.\n",
    "\n",
    "Given:\n",
    "\n",
    "def display_student(name, age):\n",
    "    print(name, age)\n",
    "\n",
    "display_student(\"Emma\", 26)"
   ]
  },
  {
   "cell_type": "code",
   "execution_count": 12,
   "id": "47482b54-6be8-4d48-8270-febc07780d29",
   "metadata": {},
   "outputs": [
    {
     "name": "stdout",
     "output_type": "stream",
     "text": [
      "Emma 26\n",
      "add 24\n"
     ]
    }
   ],
   "source": [
    "def display_student(name, age):\n",
    "    print(name, age)\n",
    "\n",
    "display_student(\"Emma\", 26)\n",
    "showStudent = display_student\n",
    "showStudent('add', 24)"
   ]
  },
  {
   "cell_type": "markdown",
   "id": "4a1b6d61-7d0a-4111-942a-2b7de6173e46",
   "metadata": {},
   "source": [
    "Generate a Python list of all the even numbers between 4 to 30\n",
    "Expected Output:\n",
    "\n",
    "[4, 6, 8, 10, 12, 14, 16, 18, 20, 22, 24, 26, 28]"
   ]
  },
  {
   "cell_type": "code",
   "execution_count": 19,
   "id": "6d1c7f71-5624-4815-a850-65d1619dafe0",
   "metadata": {},
   "outputs": [
    {
     "name": "stdout",
     "output_type": "stream",
     "text": [
      "[4, 6, 8, 10, 12, 14, 16, 18, 20, 22, 24, 26, 28]\n"
     ]
    }
   ],
   "source": [
    "print(list(range(4, 30, 2)))"
   ]
  },
  {
   "cell_type": "markdown",
   "id": "a54621fc-8489-422a-8836-1005e150d33e",
   "metadata": {},
   "source": [
    "Find the largest item from a given list\n",
    "x = [4, 6, 8, 24, 12, 2]"
   ]
  },
  {
   "cell_type": "code",
   "execution_count": 20,
   "id": "4a04e19d-86c5-4103-b3dc-f34723c24f5e",
   "metadata": {},
   "outputs": [
    {
     "name": "stdout",
     "output_type": "stream",
     "text": [
      "24\n"
     ]
    }
   ],
   "source": [
    "x = [4, 6, 8, 24, 12, 2]\n",
    "print(max(x))"
   ]
  },
  {
   "cell_type": "code",
   "execution_count": null,
   "id": "7e455ded-abbd-429a-b2b3-9eda1bebf2ea",
   "metadata": {},
   "outputs": [],
   "source": []
  }
 ],
 "metadata": {
  "kernelspec": {
   "display_name": "Python 3 (ipykernel)",
   "language": "python",
   "name": "python3"
  },
  "language_info": {
   "codemirror_mode": {
    "name": "ipython",
    "version": 3
   },
   "file_extension": ".py",
   "mimetype": "text/x-python",
   "name": "python",
   "nbconvert_exporter": "python",
   "pygments_lexer": "ipython3",
   "version": "3.9.13"
  }
 },
 "nbformat": 4,
 "nbformat_minor": 5
}
