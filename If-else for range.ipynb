{
 "cells": [
  {
   "cell_type": "markdown",
   "id": "6850b384-39be-4320-91e1-ec3b4cbd0a33",
   "metadata": {},
   "source": [
    " Print First 10 natural numbers using while loop"
   ]
  },
  {
   "cell_type": "code",
   "execution_count": 2,
   "id": "948490f3-25d7-48b7-8c18-aa4f9702acf1",
   "metadata": {},
   "outputs": [
    {
     "name": "stdout",
     "output_type": "stream",
     "text": [
      "1\n",
      "2\n",
      "3\n",
      "4\n",
      "5\n",
      "6\n",
      "7\n",
      "8\n",
      "9\n",
      "10\n"
     ]
    }
   ],
   "source": [
    "i = 1\n",
    "while i <= 10:\n",
    "    print(i)\n",
    "    i += 1"
   ]
  },
  {
   "cell_type": "markdown",
   "id": "102f625f-94b2-4335-b45b-2366e4e1ef6b",
   "metadata": {},
   "source": [
    "Print the following pattern\n",
    "Write a program to print the following number pattern using a loop.\n",
    "\n",
    "1 \n",
    "1 2 \n",
    "1 2 3 \n",
    "1 2 3 4 \n",
    "1 2 3 4 5"
   ]
  },
  {
   "cell_type": "code",
   "execution_count": 9,
   "id": "073e7521-5001-4a40-9839-e1ca9c08eeb5",
   "metadata": {},
   "outputs": [
    {
     "name": "stdout",
     "output_type": "stream",
     "text": [
      "Number pattern\n",
      "1 \n",
      "1 2 \n",
      "1 2 3 \n",
      "1 2 3 4 \n",
      "1 2 3 4 5 \n"
     ]
    }
   ],
   "source": [
    "print('Number pattern')\n",
    "row = 5\n",
    "for i in range(1,row + 1, 1):\n",
    "    for j in range(1, i + 1):\n",
    "        print(j, end=' ')\n",
    "    print('')"
   ]
  },
  {
   "cell_type": "markdown",
   "id": "8ea68c7e-d4df-44e5-94e7-66c578676269",
   "metadata": {},
   "source": [
    "Calculate the sum of all numbers from 1 to a given number\n",
    "Write a program to accept a number from a user and calculate the sum of all numbers from 1 to a given number\n",
    "\n",
    "For example, if the user entered 10 the output should be 55 (1+2+3+4+5+6+7+8+9+10)"
   ]
  },
  {
   "cell_type": "code",
   "execution_count": 11,
   "id": "577fa95f-989c-4664-8b44-3b1340cb284f",
   "metadata": {},
   "outputs": [
    {
     "name": "stdin",
     "output_type": "stream",
     "text": [
      "Enter number:  10\n"
     ]
    },
    {
     "name": "stdout",
     "output_type": "stream",
     "text": [
      "\n",
      "\n",
      "Sum is:  55\n"
     ]
    }
   ],
   "source": [
    "sumnum = int(input('Enter number: '))\n",
    "result = 0\n",
    "for i in range (1, sumnum + 1, 1):\n",
    "    result += i\n",
    "print('\\n')\n",
    "print('Sum is: ', result)"
   ]
  },
  {
   "cell_type": "markdown",
   "id": "7a079671-b9b1-431f-93ad-7bddc39ef491",
   "metadata": {},
   "source": [
    "Exercise 4: Write a program to print multiplication table of a given number\n",
    "For example, num = 2 so the output should be\n",
    "\n",
    "2\n",
    "4\n",
    "6\n",
    "8\n",
    "10\n",
    "12\n",
    "14\n",
    "16\n",
    "18\n",
    "20"
   ]
  },
  {
   "cell_type": "code",
   "execution_count": 12,
   "id": "3e26fae0-1ec0-4c1b-9da6-0db89e3b4612",
   "metadata": {},
   "outputs": [
    {
     "name": "stdout",
     "output_type": "stream",
     "text": [
      "2\n",
      "4\n",
      "6\n",
      "8\n",
      "10\n",
      "12\n",
      "14\n",
      "16\n",
      "18\n",
      "20\n"
     ]
    }
   ],
   "source": [
    "num = 2\n",
    "for i in range (1,11,1):\n",
    "    prod = num * i\n",
    "    print (prod)"
   ]
  },
  {
   "cell_type": "markdown",
   "id": "c3b31271-1cb0-4777-bf4b-131a8fb232fe",
   "metadata": {},
   "source": [
    "Display numbers from a list using loop\n",
    "Write a program to display only those numbers from a list that satisfy the following conditions\n",
    "\n",
    "The number must be divisible by five\n",
    "If the number is greater than 150, then skip it and move to the next number\n",
    "If the number is greater than 500, then stop the loop\n",
    "Given:\n",
    "\n",
    "numbers = [12, 75, 150, 180, 145, 525, 50]"
   ]
  },
  {
   "cell_type": "code",
   "execution_count": 14,
   "id": "a583aa3b-9c62-489b-ac22-d56d3c976a7a",
   "metadata": {},
   "outputs": [
    {
     "name": "stdout",
     "output_type": "stream",
     "text": [
      "75\n",
      "150\n",
      "145\n"
     ]
    }
   ],
   "source": [
    "numbers = [12, 75, 150, 180, 145, 525, 50]\n",
    "for item in numbers:\n",
    "    if item > 500:\n",
    "        break\n",
    "    elif item > 150:\n",
    "        continue\n",
    "    elif item % 5 == 0:\n",
    "        print(item)"
   ]
  },
  {
   "cell_type": "markdown",
   "id": "5474eab2-69bb-450f-9c78-ec7fef944771",
   "metadata": {},
   "source": [
    "Count the total number of digits in a number\n",
    "Write a program to count the total number of digits in a number using a while loop.\n",
    "\n",
    "For example, the number is 75869, so the output should be 5."
   ]
  },
  {
   "cell_type": "code",
   "execution_count": 1,
   "id": "bddfb2db-85cd-4bad-ac1a-1a3f507422f1",
   "metadata": {},
   "outputs": [
    {
     "name": "stdout",
     "output_type": "stream",
     "text": [
      "total digits are:  5\n"
     ]
    }
   ],
   "source": [
    "num = 75869\n",
    "count = 0\n",
    "while num > 0:\n",
    "    num = num // 10\n",
    "    count = count + 1\n",
    "print('total digits are: ', count)"
   ]
  },
  {
   "cell_type": "markdown",
   "id": "bffe77cd-f805-47a3-a535-52c62dbe0d4d",
   "metadata": {},
   "source": [
    "Write a program to use for loop to print the following reverse number pattern\n",
    "\n",
    "5 4 3 2 1 \n",
    "4 3 2 1 \n",
    "3 2 1 \n",
    "2 1 \n",
    "1"
   ]
  },
  {
   "cell_type": "code",
   "execution_count": 6,
   "id": "efc7e6c7-7eb5-4655-b450-46d85a614541",
   "metadata": {},
   "outputs": [
    {
     "name": "stdout",
     "output_type": "stream",
     "text": [
      "5 4 3 2 1 \n",
      "4 3 2 1 \n",
      "3 2 1 \n",
      "2 1 \n",
      "1 \n",
      "\n"
     ]
    }
   ],
   "source": [
    "n = 5\n",
    "k = 5\n",
    "for i in range(0, n+1):\n",
    "    for j in range(k-i, 0, -1):\n",
    "        print(j, end=' ')\n",
    "    print()"
   ]
  },
  {
   "cell_type": "markdown",
   "id": "dbec3ee0-4e7f-422d-8da1-4609d5313d8f",
   "metadata": {},
   "source": [
    "Print list in reverse order using a loop\n",
    "Given:\n",
    "\n",
    "list1 = [10, 20, 30, 40, 50]"
   ]
  },
  {
   "cell_type": "code",
   "execution_count": 8,
   "id": "e046c9ee-a072-445f-a960-1befdedc7d96",
   "metadata": {},
   "outputs": [
    {
     "name": "stdout",
     "output_type": "stream",
     "text": [
      "50\n",
      "40\n",
      "30\n",
      "20\n",
      "10\n"
     ]
    }
   ],
   "source": [
    "list1 = [10, 20, 30, 40, 50]\n",
    "new_list = reversed(list1)\n",
    "for item in new_list:\n",
    "    print(item)"
   ]
  },
  {
   "cell_type": "markdown",
   "id": "c82b3c8a-3301-4e91-9524-3c0c4c63f713",
   "metadata": {},
   "source": [
    "Display numbers from -10 to -1 using for loop"
   ]
  },
  {
   "cell_type": "code",
   "execution_count": 10,
   "id": "85b2e47f-f0fc-4a2b-9459-2a1b408c22bd",
   "metadata": {},
   "outputs": [
    {
     "name": "stdout",
     "output_type": "stream",
     "text": [
      "-10\n",
      "-9\n",
      "-8\n",
      "-7\n",
      "-6\n",
      "-5\n",
      "-4\n",
      "-3\n",
      "-2\n",
      "-1\n"
     ]
    }
   ],
   "source": [
    "for i in range(-10, 0, 1):\n",
    "    print(i)"
   ]
  },
  {
   "cell_type": "markdown",
   "id": "7dd628b6-dc58-4e4a-8232-d76956b707da",
   "metadata": {},
   "source": [
    "Use else block to display a message “Done” after successful execution of for loop\n",
    "For example, the following loop will execute without any error.\n",
    "\n",
    "Given:\n",
    "\n",
    "for i in range(5):\n",
    "    print(i)\n",
    "Expected output:\n",
    "\n",
    "0\n",
    "1\n",
    "2\n",
    "3\n",
    "4\n",
    "Done!"
   ]
  },
  {
   "cell_type": "code",
   "execution_count": 13,
   "id": "b7dddfda-34ad-4eba-bb1c-a4b372bdf8a4",
   "metadata": {},
   "outputs": [
    {
     "name": "stdout",
     "output_type": "stream",
     "text": [
      "0\n",
      "1\n",
      "2\n",
      "3\n",
      "4\n",
      "Done!\n"
     ]
    }
   ],
   "source": [
    "for i in range(5):\n",
    "    print(i)\n",
    "else:\n",
    "    print('Done!')"
   ]
  },
  {
   "cell_type": "markdown",
   "id": "1c85f158-ecdf-4595-8a43-39cbe8f3eeb2",
   "metadata": {},
   "source": [
    "Write a program to display all prime numbers within a range\n",
    "Note: A Prime Number is a number that cannot be made by multiplying other whole numbers. A prime number is a natural number greater than 1 that is not a product of two smaller natural numbers\n",
    "\n",
    "Examples:\n",
    "\n",
    "6 is not a prime mumber because it can be made by 2×3 = 6\n",
    "37 is a prime number because no other whole numbers multiply together to make it.\n",
    "Given:\n",
    "\n",
    "# range\n",
    "start = 25\n",
    "end = 50"
   ]
  },
  {
   "cell_type": "code",
   "execution_count": 15,
   "id": "ee640ef2-c033-4d8c-b20d-2616e50e9af2",
   "metadata": {},
   "outputs": [
    {
     "name": "stdout",
     "output_type": "stream",
     "text": [
      "Prime numbers between 25 and 50 are: \n",
      "29\n",
      "31\n",
      "37\n",
      "41\n",
      "43\n",
      "47\n"
     ]
    }
   ],
   "source": [
    "start = 25\n",
    "end = 50\n",
    "print('Prime numbers between {} and {} are: '.format(start, end))\n",
    "for i in range (start, end+1):\n",
    "    if i > 1:\n",
    "        for j in range (2, i):\n",
    "            if (i % j ) == 0:\n",
    "                break\n",
    "        else:\n",
    "            print(i)"
   ]
  },
  {
   "cell_type": "markdown",
   "id": "67206bf7-e893-463f-845a-6560bec5ccf4",
   "metadata": {},
   "source": [
    "Display Fibonacci series up to 10 terms\n",
    "The Fibonacci Sequence is a series of numbers. The next number is found by adding up the two numbers before it. The first two numbers are 0 and 1.\n",
    "\n",
    "For example, 0, 1, 1, 2, 3, 5, 8, 13, 21. The next number in this series above is 13+21 = 34.\n",
    "\n",
    "Expected output:\n",
    "\n",
    "Fibonacci sequence:\n",
    "0  1  1  2  3  5  8  13  21  34"
   ]
  },
  {
   "cell_type": "code",
   "execution_count": 17,
   "id": "01f93660-b007-44f0-b671-ef2ed4872b6b",
   "metadata": {},
   "outputs": [
    {
     "name": "stdout",
     "output_type": "stream",
     "text": [
      "Fibonacci sequence\n",
      "0 1 1 2 3 5 8 13 21 34 "
     ]
    }
   ],
   "source": [
    "num1, num2 = 0, 1\n",
    "print('Fibonacci sequence')\n",
    "for i in range(10):\n",
    "    print(num1, end=' ')\n",
    "    res = num1 + num2\n",
    "    num1 = num2\n",
    "    num2 = res"
   ]
  },
  {
   "cell_type": "markdown",
   "id": "86ce5441-2411-4c3b-b0d8-d97c1a6ade4b",
   "metadata": {},
   "source": [
    "Write a program to use the loop to find the factorial of a given number.\n",
    "\n",
    "The factorial (symbol: !) means to multiply all whole numbers from the chosen number down to 1.\n",
    "\n",
    "For example: calculate the factorial of 5\n",
    "\n",
    "5! = 5 × 4 × 3 × 2 × 1 = 120"
   ]
  },
  {
   "cell_type": "code",
   "execution_count": 18,
   "id": "e9aa62ef-5056-40f8-8932-488fc3acfcb4",
   "metadata": {},
   "outputs": [
    {
     "name": "stdout",
     "output_type": "stream",
     "text": [
      "the factorial of 5 is 120\n"
     ]
    }
   ],
   "source": [
    "num = 5\n",
    "factorial = 1\n",
    "if num < 0 :\n",
    "    print('does not exist for negative numbers')\n",
    "elif num == 0:\n",
    "    print('factorial of 0 is 1')\n",
    "else :\n",
    "    for i in range(1, num+1):\n",
    "        factorial = factorial * i\n",
    "    print('the factorial of {} is {}'.format(num, factorial))"
   ]
  },
  {
   "cell_type": "markdown",
   "id": "54421368-447c-4910-97dd-053ad6d2b12e",
   "metadata": {},
   "source": [
    "Reverse a given integer number\n",
    "Given:\n",
    "\n",
    "76542\n",
    "\n",
    "Expected output:\n",
    "\n",
    "24567"
   ]
  },
  {
   "cell_type": "code",
   "execution_count": 19,
   "id": "b53a0f82-e7b9-46fc-9ba6-51dc84837328",
   "metadata": {},
   "outputs": [
    {
     "name": "stdout",
     "output_type": "stream",
     "text": [
      "Given number:  76542\n",
      "Reverse number:  24567\n"
     ]
    }
   ],
   "source": [
    "num = 76542\n",
    "reverse_num = 0\n",
    "print('Given number: ',num)\n",
    "while num > 0:\n",
    "    reminder = num %10\n",
    "    reverse_num = (reverse_num * 10) + reminder\n",
    "    num = num //10\n",
    "print('Reverse number: ', reverse_num)"
   ]
  },
  {
   "cell_type": "markdown",
   "id": "14627825-5519-4b50-af7b-a2abe46d364c",
   "metadata": {},
   "source": [
    "Use a loop to display elements from a given list present at odd index positions\n",
    "Given:\n",
    "\n",
    "my_list = [10, 20, 30, 40, 50, 60, 70, 80, 90, 100]"
   ]
  },
  {
   "cell_type": "code",
   "execution_count": 21,
   "id": "a9dc58d6-9f7b-4d26-a52a-82d85be0a39d",
   "metadata": {},
   "outputs": [
    {
     "name": "stdout",
     "output_type": "stream",
     "text": [
      "20 40 60 80 100 "
     ]
    }
   ],
   "source": [
    "my_list = [10, 20, 30, 40, 50, 60, 70, 80, 90, 100]\n",
    "for item in my_list[1::2]:\n",
    "    print(item, end=' ')"
   ]
  },
  {
   "cell_type": "markdown",
   "id": "25444040-8bf1-4c76-ab3d-f421149653f4",
   "metadata": {},
   "source": [
    "Calculate the cube of all numbers from 1 to a given number\n",
    "Write a program to rint the cube of all numbers from 1 to a given number\n",
    "\n",
    "Given:\n",
    "\n",
    "input_number = 6"
   ]
  },
  {
   "cell_type": "code",
   "execution_count": 24,
   "id": "9a0ebab1-c29d-49cd-b6fc-30adb37fc622",
   "metadata": {},
   "outputs": [
    {
     "name": "stdout",
     "output_type": "stream",
     "text": [
      "Current number is : 1 and the cube is 1\n",
      "Current number is : 2 and the cube is 8\n",
      "Current number is : 3 and the cube is 27\n",
      "Current number is : 4 and the cube is 64\n",
      "Current number is : 5 and the cube is 125\n",
      "Current number is : 6 and the cube is 216\n"
     ]
    }
   ],
   "source": [
    "input_number = 6\n",
    "for i in range(1, input_number + 1):\n",
    "    cube = i*i*i\n",
    "    print('Current number is : {} and the cube is {}'.format(i, cube))"
   ]
  },
  {
   "cell_type": "markdown",
   "id": "7ab92ec2-7a38-47b2-943f-cb9f98dafa41",
   "metadata": {},
   "source": [
    "Find the sum of the series upto n terms\n",
    "Write a program to calculate the sum of series up to n term. For example, if n =5 the series will become 2 + 22 + 222 + 2222 + 22222 = 24690\n",
    "\n",
    "Given:\n",
    "\n",
    "# number of terms\n",
    "n = 5"
   ]
  },
  {
   "cell_type": "code",
   "execution_count": 25,
   "id": "0ddb1191-7e49-4493-8cdc-527609b6cb95",
   "metadata": {},
   "outputs": [
    {
     "name": "stdout",
     "output_type": "stream",
     "text": [
      "2 22 222 2222 22222 \n",
      "Sum of above series is:  24690\n"
     ]
    }
   ],
   "source": [
    "n = 5\n",
    "start = 2\n",
    "sum_seq = 0\n",
    "for i in range(0, n):\n",
    "    print(start, end=' ')\n",
    "    sum_seq += start\n",
    "    start = start * 10 + 2\n",
    "print('\\nSum of above series is: ',sum_seq)"
   ]
  },
  {
   "cell_type": "markdown",
   "id": "7a9d9367-9cd1-490c-b7aa-32b9e29bd293",
   "metadata": {},
   "source": [
    "Print the following pattern\n",
    "Write a program to print the following start pattern using the for loop\n",
    "\n",
    "* \n",
    "* * \n",
    "* * * \n",
    "* * * * \n",
    "* * * * * \n",
    "* * * * \n",
    "* * * \n",
    "* * \n",
    "*"
   ]
  },
  {
   "cell_type": "code",
   "execution_count": 27,
   "id": "84b44e7a-b4a8-443d-ab15-f64c269dea3c",
   "metadata": {},
   "outputs": [
    {
     "name": "stdout",
     "output_type": "stream",
     "text": [
      "* \n",
      "* * \n",
      "* * * \n",
      "* * * * \n",
      "* * * * * \n",
      "* * * * \n",
      "* * * \n",
      "* * \n",
      "* \n",
      "\n"
     ]
    }
   ],
   "source": [
    "rows = 5\n",
    "for i in range(0, rows):\n",
    "    for j in range (0, i+1):\n",
    "        print('*', end=' ')\n",
    "    print('\\r')\n",
    "for i in range(rows, 0, -1):\n",
    "    for j in range(0, i - 1):\n",
    "        print('*', end=' ')\n",
    "    print('\\r')"
   ]
  },
  {
   "cell_type": "code",
   "execution_count": null,
   "id": "30558913-ea36-4d7e-a734-80144cae06f7",
   "metadata": {},
   "outputs": [],
   "source": []
  }
 ],
 "metadata": {
  "kernelspec": {
   "display_name": "Python 3 (ipykernel)",
   "language": "python",
   "name": "python3"
  },
  "language_info": {
   "codemirror_mode": {
    "name": "ipython",
    "version": 3
   },
   "file_extension": ".py",
   "mimetype": "text/x-python",
   "name": "python",
   "nbconvert_exporter": "python",
   "pygments_lexer": "ipython3",
   "version": "3.9.13"
  }
 },
 "nbformat": 4,
 "nbformat_minor": 5
}
