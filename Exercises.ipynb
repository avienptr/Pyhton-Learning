{
 "cells": [
  {
   "cell_type": "markdown",
   "id": "56425902-3701-4eba-ac61-928d773cb58e",
   "metadata": {},
   "source": [
    "Given two integer numbers return their product only if the product is equal to or lower than 1000, else return their sum"
   ]
  },
  {
   "cell_type": "code",
   "execution_count": 15,
   "id": "3623f8bd-72f0-4b44-a3c2-78163f50d8c2",
   "metadata": {},
   "outputs": [
    {
     "name": "stdout",
     "output_type": "stream",
     "text": [
      "The result is  120\n"
     ]
    }
   ],
   "source": [
    "num1 = 100\n",
    "num2 = 20\n",
    "result = num1 * num2\n",
    "if result >= 1000:\n",
    "    print('The result is ', num1+num2)\n",
    "else:\n",
    "    print('The result is', result)"
   ]
  },
  {
   "cell_type": "markdown",
   "id": "e9d1de17-a3a8-4478-9fb4-dd81b06d0fb6",
   "metadata": {},
   "source": [
    "Write a program to iterate the first 10 numbers and in each iteration, print the sum of the current and previous number."
   ]
  },
  {
   "cell_type": "code",
   "execution_count": 16,
   "id": "9a6f2772-1458-4f7a-9b85-36a0c42ca135",
   "metadata": {},
   "outputs": [
    {
     "name": "stdout",
     "output_type": "stream",
     "text": [
      "Current number 0 Previous Number 0 Sum : 0\n",
      "Current number 1 Previous Number 0 Sum : 1\n",
      "Current number 2 Previous Number 1 Sum : 3\n",
      "Current number 3 Previous Number 2 Sum : 5\n",
      "Current number 4 Previous Number 3 Sum : 7\n",
      "Current number 5 Previous Number 4 Sum : 9\n",
      "Current number 6 Previous Number 5 Sum : 11\n",
      "Current number 7 Previous Number 6 Sum : 13\n",
      "Current number 8 Previous Number 7 Sum : 15\n",
      "Current number 9 Previous Number 8 Sum : 17\n"
     ]
    }
   ],
   "source": [
    "prev = 0\n",
    "for i in range(10):\n",
    "    summ = i + prev\n",
    "    print('Current number {} Previous Number {} Sum : {}'.format(i, prev, summ))\n",
    "    prev = i"
   ]
  },
  {
   "cell_type": "markdown",
   "id": "9afe20c5-1bc8-4c34-a9de-c909593ed310",
   "metadata": {},
   "source": [
    "Write a program to accept a string from the user and display characters that are present at an even index number.\n",
    "\n",
    "For example, str = \"pynative\" so you should display ‘p’, ‘n’, ‘t’, ‘v’."
   ]
  },
  {
   "cell_type": "code",
   "execution_count": 19,
   "id": "8c271b05-2255-45b2-a219-4def4838af8b",
   "metadata": {},
   "outputs": [
    {
     "name": "stdin",
     "output_type": "stream",
     "text": [
      "Enter word avien putra\n"
     ]
    },
    {
     "name": "stdout",
     "output_type": "stream",
     "text": [
      "Original string:  avien putra\n",
      "Printing only even index\n",
      "index[ 0 ] a\n",
      "index[ 2 ] i\n",
      "index[ 4 ] n\n",
      "index[ 6 ] p\n",
      "index[ 8 ] t\n"
     ]
    }
   ],
   "source": [
    "#input\n",
    "word = input('Enter word')\n",
    "print('Original string: ', word)\n",
    "\n",
    "#string length\n",
    "size = len(word)\n",
    "\n",
    "print('Printing only even index')\n",
    "for i in range(0, size - 1, 2):\n",
    "    print('index[', i, ']', word[i])"
   ]
  },
  {
   "cell_type": "markdown",
   "id": "4d50921e-0b3c-47ef-96be-5bd2b06f41c3",
   "metadata": {},
   "source": [
    "Write a program to remove characters from a string starting from zero up to n and return a new string.\n",
    "\n",
    "For example:\n",
    "\n",
    "remove_chars(\"pynative\", 4) so output must be tive. Here we need to remove first four characters from a string.\n",
    "remove_chars(\"pynative\", 2) so output must be native. Here we need to remove first two characters from a string."
   ]
  },
  {
   "cell_type": "code",
   "execution_count": 24,
   "id": "db91cf15-0f20-4efb-985f-ba9e57c4c4a1",
   "metadata": {},
   "outputs": [
    {
     "name": "stdin",
     "output_type": "stream",
     "text": [
      "Insert string:  doomsday\n"
     ]
    },
    {
     "name": "stdout",
     "output_type": "stream",
     "text": [
      "Remove characters from a string\n",
      "Original string:  doomsday\n",
      "sday\n",
      "Original string:  doomsday\n",
      "omsday\n"
     ]
    }
   ],
   "source": [
    "chars = input('Insert string: ')\n",
    "def remove_chars(chars, n):\n",
    "    print('Original string: ', chars)\n",
    "    x = chars[n:]\n",
    "    return x\n",
    "print('Remove characters from a string')\n",
    "print(remove_chars(chars, 4))\n",
    "print(remove_chars(chars, 2))\n"
   ]
  },
  {
   "cell_type": "markdown",
   "id": "e53ffd9b-c1be-46c6-8831-0fc3600c5314",
   "metadata": {},
   "source": [
    "Write a function to return True if the first and last number of a given list is same. If numbers are different then return False.\n",
    "\n",
    "Given:\n",
    "\n",
    "numbers_x = [10, 20, 30, 40, 10]\n",
    "numbers_y = [75, 65, 35, 75, 30]"
   ]
  },
  {
   "cell_type": "code",
   "execution_count": 30,
   "id": "43a57007-b56d-4047-8273-5e500b941ad6",
   "metadata": {},
   "outputs": [
    {
     "name": "stdout",
     "output_type": "stream",
     "text": [
      "Given list:  [10, 20, 30, 40, 10]\n",
      "Result is  True\n",
      "Given list:  [75, 65, 35, 75, 30]\n",
      "Result is  False\n"
     ]
    }
   ],
   "source": [
    "def first_last_same(numberList):\n",
    "    print ('Given list: ', numberList)\n",
    "    first_num = numberList[0]\n",
    "    last_num = numberList[-1]\n",
    "    if first_num == last_num:\n",
    "        return True\n",
    "    else:\n",
    "        return False\n",
    "numbers_x = [10, 20, 30, 40, 10]\n",
    "print('Result is ', first_last_same(numbers_x))\n",
    "numbers_y = [75, 65, 35, 75, 30]\n",
    "print('Result is ', first_last_same(numbers_y))"
   ]
  },
  {
   "cell_type": "markdown",
   "id": "724b9820-2438-4360-8aad-b32efc47f3b2",
   "metadata": {},
   "source": [
    "Iterate the given list of numbers and print only those numbers which are divisible by 5\n",
    "\n",
    "Given list is  [10, 20, 33, 46, 55]"
   ]
  },
  {
   "cell_type": "code",
   "execution_count": 32,
   "id": "3ef2012c-f8d0-4a70-a884-9aa9e4916bb9",
   "metadata": {},
   "outputs": [
    {
     "name": "stdout",
     "output_type": "stream",
     "text": [
      "Given list  [10, 20, 33, 46, 55]\n",
      "Divisible by 5: \n",
      "10\n",
      "20\n",
      "55\n"
     ]
    }
   ],
   "source": [
    "given_list = [10, 20, 33, 46, 55]\n",
    "print('Given list ', given_list)\n",
    "print('Divisible by 5: ')\n",
    "for i in given_list:\n",
    "    if i % 5 == 0:\n",
    "        print(i)"
   ]
  },
  {
   "cell_type": "markdown",
   "id": "72c3b504-f44b-4ca7-8adf-784d349b131f",
   "metadata": {},
   "source": [
    "Write a program to find how many times substring “Emma” appears in the given string.\n",
    "\n",
    "Given:\n",
    "str_x = \"Emma is good developer. Emma is a writer\""
   ]
  },
  {
   "cell_type": "code",
   "execution_count": 35,
   "id": "f75b4c07-da27-41ad-9a30-959d6c6c5030",
   "metadata": {},
   "outputs": [
    {
     "name": "stdout",
     "output_type": "stream",
     "text": [
      "2\n"
     ]
    }
   ],
   "source": [
    "str_x = 'Emma is good developer. Emma is a writer'\n",
    "e_count = str_x.count('Emma')\n",
    "print(e_count)"
   ]
  },
  {
   "cell_type": "markdown",
   "id": "8fb1915c-8651-4da6-90ce-19b1e66b667e",
   "metadata": {},
   "source": [
    "Exercise 8: Print the following pattern\n",
    "\n",
    "1 \n",
    "2 2 \n",
    "3 3 3 \n",
    "4 4 4 4 \n",
    "5 5 5 5 5"
   ]
  },
  {
   "cell_type": "code",
   "execution_count": 37,
   "id": "1d5a0907-1aec-43b5-a4a2-5fe780f0f013",
   "metadata": {},
   "outputs": [
    {
     "name": "stdout",
     "output_type": "stream",
     "text": [
      "\n",
      "\n",
      "1\n",
      "\n",
      "22\n",
      "\n",
      "333\n",
      "\n",
      "4444\n",
      "\n",
      "55555\n",
      "\n",
      "666666\n",
      "\n",
      "7777777\n",
      "\n",
      "88888888\n",
      "\n",
      "999999999\n",
      "\n"
     ]
    }
   ],
   "source": [
    "for i in range(10):\n",
    "    for j in range(i):\n",
    "        print(i, end='')\n",
    "    print('\\n')\n",
    "    "
   ]
  },
  {
   "cell_type": "markdown",
   "id": "a94e2fb2-ad40-4cff-a71d-9108cab5b7f3",
   "metadata": {},
   "source": [
    "Write a program to check if the given number is a palindrome number.\n",
    "\n",
    "A palindrome number is a number that is same after reverse. For example 545, is the palindrome numbers\n",
    "\n",
    "Expected Output:\n",
    "\n",
    "original number 121\n",
    "Yes. given number is palindrome number\n",
    "\n",
    "original number 125\n",
    "No. given number is not palindrome number"
   ]
  },
  {
   "cell_type": "code",
   "execution_count": 44,
   "id": "16f63cdf-80db-47a7-bce0-6cbb7dbd0a53",
   "metadata": {},
   "outputs": [
    {
     "name": "stdout",
     "output_type": "stream",
     "text": [
      "Original number 212\n",
      "Given number is palindrome\n",
      "Original number 212\n",
      "Given number is not palindrome\n"
     ]
    }
   ],
   "source": [
    "def palindrome(numberPalindrome):\n",
    "    print('Original number', pal_num)\n",
    "    ori_num = numberPalindrome\n",
    "    reverse_num = 0\n",
    "    while numberPalindrome > 0:\n",
    "        remindr = numberPalindrome % 10\n",
    "        reverse_num = (reverse_num * 10) + remindr\n",
    "        numberPalindrome = numberPalindrome // 10\n",
    "    if ori_num == reverse_num:\n",
    "        print('Given number is palindrome')\n",
    "    else:\n",
    "        print('Given number is not palindrome')\n",
    "palindrome(212)\n",
    "palindrome(123)"
   ]
  },
  {
   "cell_type": "markdown",
   "id": "fbca8eef-77d8-40a4-866c-d66aa10b31e0",
   "metadata": {},
   "source": [
    "Create a new list from a two list using the following condition\n",
    "\n",
    "Given a two list of numbers, write a program to create a new list such that the new list should contain odd numbers from the first list and even numbers from the second list.\n",
    "\n",
    "Given:\n",
    "\n",
    "list1 = [10, 20, 25, 30, 35]\n",
    "list2 = [40, 45, 60, 75, 90]"
   ]
  },
  {
   "cell_type": "code",
   "execution_count": 49,
   "id": "f016c64a-ea83-4577-88ed-10582de7d6cd",
   "metadata": {},
   "outputs": [
    {
     "name": "stdout",
     "output_type": "stream",
     "text": [
      "Result list:  [25, 35, 40, 60, 90]\n"
     ]
    }
   ],
   "source": [
    "def merge_list(list1, list2):\n",
    "    result_list = []\n",
    "    for i in list1:\n",
    "        if i % 2 != 0:\n",
    "            result_list.append(i)\n",
    "    for i in list2:\n",
    "        if i % 2 == 0:\n",
    "            result_list.append(i)\n",
    "    return result_list\n",
    "list1 = [10, 20, 25, 30, 35]\n",
    "list2 = [40, 45, 60, 75, 90]\n",
    "print('Result list: ', merge_list(list1, list2))"
   ]
  },
  {
   "cell_type": "markdown",
   "id": "a5e140bb-7308-4241-80d6-9576ca26a062",
   "metadata": {},
   "source": [
    "For example, If the given int is 7536, the output shall be “6 3 5 7“, with a space separating the digits."
   ]
  },
  {
   "cell_type": "code",
   "execution_count": 52,
   "id": "f7032d22-2648-4611-bd10-916186de73e4",
   "metadata": {},
   "outputs": [
    {
     "name": "stdout",
     "output_type": "stream",
     "text": [
      "given number  7536\n",
      "6 3 5 7 "
     ]
    }
   ],
   "source": [
    "number7536 = 7536\n",
    "print('given number ', number7536)\n",
    "while number7536 > 0:\n",
    "    digit = number7536 % 10\n",
    "    number7536 = number7536 //10\n",
    "    print(digit, end=' ')"
   ]
  },
  {
   "cell_type": "markdown",
   "id": "71d4d0fb-f0bb-450d-923c-f0b144a1193f",
   "metadata": {},
   "source": [
    "Taxable Income\tRate (in %)\n",
    "First $10,000\t0\n",
    "Next $10,000\t10\n",
    "The remaining\t20\n",
    "Expected Output:\n",
    "\n",
    "For example, suppose the taxable income is 45000 the income tax payable is\n",
    "\n",
    "10000*0% + 10000*10%  + 25000*20% = $6000."
   ]
  },
  {
   "cell_type": "code",
   "execution_count": 60,
   "id": "0d8ca589-d5ea-4b31-8192-1b724fb30c6a",
   "metadata": {},
   "outputs": [
    {
     "name": "stdout",
     "output_type": "stream",
     "text": [
      "Given income 10000\n",
      "Total tax to pay is 0\n"
     ]
    }
   ],
   "source": [
    "income = 10000\n",
    "tax_payable = 0\n",
    "print(\"Given income\", income)\n",
    "if income <= 10000:\n",
    "    tax_payable = 0\n",
    "elif income <= 20000:\n",
    "    x = income - 10000\n",
    "    tax_payable = x * 10 / 100\n",
    "else:\n",
    "    tax_payable = 0\n",
    "    tax_payable = 10000 * 10 / 100\n",
    "    tax_payable += (income - 20000) * 20 / 100\n",
    "print(\"Total tax to pay is\", tax_payable)"
   ]
  },
  {
   "cell_type": "markdown",
   "id": "5992393c-0bbd-4f88-9f39-837412d65c1f",
   "metadata": {},
   "source": [
    "1  2 3 4 5 6 7 8 9 10 \t\t\n",
    "2  4 6 8 10 12 14 16 18 20 \t\t\n",
    "3  6 9 12 15 18 21 24 27 30 \t\t\n",
    "4  8 12 16 20 24 28 32 36 40 \t\t\n",
    "5  10 15 20 25 30 35 40 45 50 \t\t\n",
    "6  12 18 24 30 36 42 48 54 60 \t\t\n",
    "7  14 21 28 35 42 49 56 63 70 \t\t\n",
    "8  16 24 32 40 48 56 64 72 80 \t\t\n",
    "9  18 27 36 45 54 63 72 81 90 \t\t\n",
    "10 20 30 40 50 60 70 80 90 100 "
   ]
  },
  {
   "cell_type": "code",
   "execution_count": 63,
   "id": "852b580d-af8d-433f-bcdb-38e1a8f1e5dc",
   "metadata": {},
   "outputs": [
    {
     "name": "stdout",
     "output_type": "stream",
     "text": [
      "1 2 3 4 5 6 7 8 9 10 \t\t\n",
      "2 4 6 8 10 12 14 16 18 20 \t\t\n",
      "3 6 9 12 15 18 21 24 27 30 \t\t\n",
      "4 8 12 16 20 24 28 32 36 40 \t\t\n",
      "5 10 15 20 25 30 35 40 45 50 \t\t\n",
      "6 12 18 24 30 36 42 48 54 60 \t\t\n",
      "7 14 21 28 35 42 49 56 63 70 \t\t\n",
      "8 16 24 32 40 48 56 64 72 80 \t\t\n",
      "9 18 27 36 45 54 63 72 81 90 \t\t\n",
      "10 20 30 40 50 60 70 80 90 100 \t\t\n"
     ]
    }
   ],
   "source": [
    "for i in range(1,11):\n",
    "    for j in range (1,11):\n",
    "        print(i * j, end=' ')\n",
    "    print('\\t\\t')"
   ]
  },
  {
   "cell_type": "markdown",
   "id": "f3c8ed56-6442-4bb1-ae74-a73b6df35563",
   "metadata": {},
   "source": [
    "* * * * *  \n",
    "* * * *  \n",
    "* * *  \n",
    "* *  \n",
    "*"
   ]
  },
  {
   "cell_type": "markdown",
   "id": "2507bf49-54e6-436d-9574-4b4cd5327099",
   "metadata": {},
   "source": [
    "Write a function called exponent(base, exp) that returns an int value of base raises to the power of exp.\n",
    "Note here exp is a non-negative integer, and the base is an integer."
   ]
  },
  {
   "cell_type": "code",
   "execution_count": 8,
   "id": "4ff59eb3-5f26-4985-a2cf-f4c7c5a7538a",
   "metadata": {},
   "outputs": [
    {
     "name": "stdout",
     "output_type": "stream",
     "text": [
      "5 raises to the power of 4 is: 625\n"
     ]
    }
   ],
   "source": [
    "def exponent(base, exp):\n",
    "    exponent = base ** exp\n",
    "    print('{} raises to the power of {} is: {}'.format(base,exp,exponent))\n",
    "exponent(5,4)"
   ]
  }
 ],
 "metadata": {
  "kernelspec": {
   "display_name": "Python 3 (ipykernel)",
   "language": "python",
   "name": "python3"
  },
  "language_info": {
   "codemirror_mode": {
    "name": "ipython",
    "version": 3
   },
   "file_extension": ".py",
   "mimetype": "text/x-python",
   "name": "python",
   "nbconvert_exporter": "python",
   "pygments_lexer": "ipython3",
   "version": "3.9.13"
  }
 },
 "nbformat": 4,
 "nbformat_minor": 5
}
