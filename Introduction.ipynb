{
 "cells": [
  {
   "cell_type": "markdown",
   "id": "0cc81b69-0ff7-4bc7-af17-80d2258d0928",
   "metadata": {},
   "source": [
    "VARIABLES"
   ]
  },
  {
   "cell_type": "code",
   "execution_count": 1,
   "id": "8812e333-2215-4d49-9ed5-d4c54803ac85",
   "metadata": {},
   "outputs": [],
   "source": [
    "x = 10"
   ]
  },
  {
   "cell_type": "code",
   "execution_count": 2,
   "id": "bcedaf12-17d1-44d7-82fc-b8eeb495221f",
   "metadata": {},
   "outputs": [],
   "source": [
    "x = 3"
   ]
  },
  {
   "cell_type": "code",
   "execution_count": 3,
   "id": "f50174b9-27b4-4f1f-bf57-1a06b4fe1eeb",
   "metadata": {},
   "outputs": [
    {
     "data": {
      "text/plain": [
       "9"
      ]
     },
     "execution_count": 3,
     "metadata": {},
     "output_type": "execute_result"
    }
   ],
   "source": [
    "x**2"
   ]
  },
  {
   "cell_type": "code",
   "execution_count": 4,
   "id": "b25aa44b-c890-4fad-876d-f3f175c6fd3f",
   "metadata": {},
   "outputs": [
    {
     "data": {
      "text/plain": [
       "'Cast'"
      ]
     },
     "execution_count": 4,
     "metadata": {},
     "output_type": "execute_result"
    }
   ],
   "source": [
    "x = 'Ca{}t'.format('s')\n",
    "x"
   ]
  },
  {
   "cell_type": "code",
   "execution_count": 5,
   "id": "99668eb9-272b-49cc-8e83-e050e5b20468",
   "metadata": {},
   "outputs": [],
   "source": [
    "age = 25.53421"
   ]
  },
  {
   "cell_type": "code",
   "execution_count": 17,
   "id": "5d0bd08d-28b7-4cde-85c0-8600af472c9f",
   "metadata": {},
   "outputs": [],
   "source": [
    "x = 'I am {:.3f} years old'.format(age)"
   ]
  },
  {
   "cell_type": "code",
   "execution_count": 18,
   "id": "52312139-7174-42e0-9d1a-52d6fe5dd4d0",
   "metadata": {},
   "outputs": [
    {
     "data": {
      "text/plain": [
       "'I am 25.534 years old'"
      ]
     },
     "execution_count": 18,
     "metadata": {},
     "output_type": "execute_result"
    }
   ],
   "source": [
    "x"
   ]
  },
  {
   "cell_type": "markdown",
   "id": "d435e979-11c2-43a1-910d-bd34d8eb8f4f",
   "metadata": {},
   "source": [
    "LIST"
   ]
  },
  {
   "cell_type": "code",
   "execution_count": 19,
   "id": "08d1205e-776b-4268-b4ac-dc5b9f6f5c3e",
   "metadata": {},
   "outputs": [],
   "source": [
    "x = [1, 3, 5, 6, 'cat', [1, 2]]"
   ]
  },
  {
   "cell_type": "code",
   "execution_count": 23,
   "id": "77c79185-c922-4caf-b096-558681f2ef3c",
   "metadata": {},
   "outputs": [],
   "source": [
    "x[2] = 2"
   ]
  },
  {
   "cell_type": "code",
   "execution_count": 25,
   "id": "c04afc12-859d-4954-b100-3ac73d78f44c",
   "metadata": {},
   "outputs": [
    {
     "data": {
      "text/plain": [
       "[1, 3, 2, 6, 'cat', [1, 2]]"
      ]
     },
     "execution_count": 25,
     "metadata": {},
     "output_type": "execute_result"
    }
   ],
   "source": [
    "x"
   ]
  },
  {
   "cell_type": "markdown",
   "id": "ed1593a2-c25c-43f1-950c-15e9a141a033",
   "metadata": {},
   "source": [
    "TUPLE"
   ]
  },
  {
   "cell_type": "code",
   "execution_count": 28,
   "id": "976b9dcf-f3f8-4646-b3af-8ce8c7e3148c",
   "metadata": {},
   "outputs": [],
   "source": [
    "x = (1, 3, 2, 6, 'cat', [1, 2])"
   ]
  },
  {
   "cell_type": "code",
   "execution_count": 29,
   "id": "eed3b6de-e6a6-4bbe-9b9e-aa2c7aa49635",
   "metadata": {},
   "outputs": [
    {
     "data": {
      "text/plain": [
       "(1, 3, 2, 6, 'cat', [1, 2])"
      ]
     },
     "execution_count": 29,
     "metadata": {},
     "output_type": "execute_result"
    }
   ],
   "source": [
    "x"
   ]
  },
  {
   "cell_type": "markdown",
   "id": "f0a21aaa-e278-40b3-b1b8-f7bdd152fd68",
   "metadata": {},
   "source": [
    "DICT"
   ]
  },
  {
   "cell_type": "code",
   "execution_count": 30,
   "id": "e2c1e2cb-27e4-49f1-ac2e-2baee838d45c",
   "metadata": {},
   "outputs": [],
   "source": [
    "d = {'cat':'feline', 232:212}"
   ]
  },
  {
   "cell_type": "code",
   "execution_count": 32,
   "id": "1a4807cb-5a80-4056-b10d-fab4184c58e9",
   "metadata": {},
   "outputs": [
    {
     "data": {
      "text/plain": [
       "'feline'"
      ]
     },
     "execution_count": 32,
     "metadata": {},
     "output_type": "execute_result"
    }
   ],
   "source": [
    "d['cat']"
   ]
  },
  {
   "cell_type": "markdown",
   "id": "2cc5edc8-d95c-4351-ab23-7e6cafbd3230",
   "metadata": {},
   "source": [
    "ARRAY"
   ]
  },
  {
   "cell_type": "code",
   "execution_count": 33,
   "id": "8fa4f1b3-ff25-4f49-9d13-976ad8359aac",
   "metadata": {},
   "outputs": [],
   "source": [
    "import numpy as np"
   ]
  },
  {
   "cell_type": "code",
   "execution_count": 34,
   "id": "ff8bf904-e323-4739-9aea-98f54943e1f1",
   "metadata": {},
   "outputs": [],
   "source": [
    "x = np.array([1, 4, 5, 8])"
   ]
  },
  {
   "cell_type": "code",
   "execution_count": 35,
   "id": "6406d47c-e215-43ea-837e-b97325abb502",
   "metadata": {},
   "outputs": [
    {
     "data": {
      "text/plain": [
       "array([1, 4, 5, 8])"
      ]
     },
     "execution_count": 35,
     "metadata": {},
     "output_type": "execute_result"
    }
   ],
   "source": [
    "x"
   ]
  },
  {
   "cell_type": "code",
   "execution_count": 36,
   "id": "9f09f800-5138-41e9-ab2c-1d04258b3fca",
   "metadata": {},
   "outputs": [],
   "source": [
    "x = np.linspace(0, 20, 10)"
   ]
  },
  {
   "cell_type": "code",
   "execution_count": 37,
   "id": "24e0ec1d-7c1c-44bd-a191-ca1cf5ab27f3",
   "metadata": {},
   "outputs": [
    {
     "data": {
      "text/plain": [
       "array([ 0.        ,  2.22222222,  4.44444444,  6.66666667,  8.88888889,\n",
       "       11.11111111, 13.33333333, 15.55555556, 17.77777778, 20.        ])"
      ]
     },
     "execution_count": 37,
     "metadata": {},
     "output_type": "execute_result"
    }
   ],
   "source": [
    "x"
   ]
  },
  {
   "cell_type": "code",
   "execution_count": 39,
   "id": "ed59f2c9-e457-4e87-b549-722639c1ef32",
   "metadata": {},
   "outputs": [],
   "source": [
    "x = np.arange(0, 20, 2)"
   ]
  },
  {
   "cell_type": "code",
   "execution_count": 40,
   "id": "3724666e-e5a4-428a-ad40-3f66e4b6df4d",
   "metadata": {},
   "outputs": [
    {
     "data": {
      "text/plain": [
       "array([ 0,  2,  4,  6,  8, 10, 12, 14, 16, 18])"
      ]
     },
     "execution_count": 40,
     "metadata": {},
     "output_type": "execute_result"
    }
   ],
   "source": [
    "x"
   ]
  },
  {
   "cell_type": "markdown",
   "id": "ba322baa-ccbc-4fe2-9b35-036b0c001358",
   "metadata": {},
   "source": [
    "PLOTTING"
   ]
  },
  {
   "cell_type": "code",
   "execution_count": 47,
   "id": "5ebfc60e-14b8-40bf-ba50-9f76e4ee4b43",
   "metadata": {},
   "outputs": [],
   "source": [
    "import matplotlib.pyplot as plt"
   ]
  },
  {
   "cell_type": "code",
   "execution_count": 43,
   "id": "445be75e-33b6-4a64-a2c5-903a7995f75c",
   "metadata": {},
   "outputs": [],
   "source": [
    "x = np.linspace(0, 20, 10)"
   ]
  },
  {
   "cell_type": "code",
   "execution_count": 45,
   "id": "e88114bb-f0b9-4659-9ff0-df35fcbb54d1",
   "metadata": {},
   "outputs": [],
   "source": [
    "y = x**2"
   ]
  },
  {
   "cell_type": "code",
   "execution_count": 49,
   "id": "bea5faa7-d9e6-48fa-ac99-5baf04b27cf9",
   "metadata": {},
   "outputs": [
    {
     "data": {
      "text/plain": [
       "[<matplotlib.lines.Line2D at 0x1a9688ae160>]"
      ]
     },
     "execution_count": 49,
     "metadata": {},
     "output_type": "execute_result"
    },
    {
     "data": {
      "image/png": "[encoded data removed]",
      "text/plain": [
       "<Figure size 640x480 with 1 Axes>"
      ]
     },
     "metadata": {},
     "output_type": "display_data"
    }
   ],
   "source": [
    "plt.plot(x, y)"
   ]
  },
  {
   "cell_type": "markdown",
   "id": "00e287c0-9bbe-4765-822b-d0dbbc70b2dd",
   "metadata": {},
   "source": [
    "FORLOOP"
   ]
  },
  {
   "cell_type": "markdown",
   "id": "0c95f86a-7028-434c-b3ef-2235e87ec455",
   "metadata": {},
   "source": [
    "    Regular loop"
   ]
  },
  {
   "cell_type": "code",
   "execution_count": null,
   "id": "67dfb562-7514-4251-8400-d20acac1f8b4",
   "metadata": {},
   "outputs": [],
   "source": [
    "lst = []\n",
    "for i in range(21):\n",
    "    lst.append(i**3)\n",
    " "
   ]
  },
  {
   "cell_type": "markdown",
   "id": "8cfb41cb-6055-4852-9dc8-ab4186bb591d",
   "metadata": {},
   "source": [
    "    LIST LOOP"
   ]
  },
  {
   "cell_type": "code",
   "execution_count": 65,
   "id": "41b54f0e-e42f-47d7-b2d3-4f6c8d3d41cf",
   "metadata": {},
   "outputs": [
    {
     "name": "stdout",
     "output_type": "stream",
     "text": [
      "fog\n",
      "cat\n",
      "horse\n"
     ]
    }
   ],
   "source": [
    "lst = ['fog', 'cat', 'horse']\n",
    "for item in lst:\n",
    "    print(item)"
   ]
  },
  {
   "cell_type": "markdown",
   "id": "865a96aa-0800-46cf-973a-93ce35c312c3",
   "metadata": {},
   "source": [
    "    ENUMERATION LOOP"
   ]
  },
  {
   "cell_type": "code",
   "execution_count": 68,
   "id": "06afced3-da21-4ebb-b6f9-87f6319faccf",
   "metadata": {},
   "outputs": [
    {
     "name": "stdout",
     "output_type": "stream",
     "text": [
      "Index 0 contains fog\n",
      "Index 1 contains cat\n",
      "Index 2 contains horse\n"
     ]
    }
   ],
   "source": [
    "lst = ['fog', 'cat', 'horse']\n",
    "for i, item in enumerate(lst):\n",
    "    print('Index {} contains {}'.format(i, item))"
   ]
  },
  {
   "cell_type": "markdown",
   "id": "6d79a8ea-60ad-4a43-8edb-d796aac6288d",
   "metadata": {},
   "source": [
    "    LIST COMPREHENSION LOOP"
   ]
  },
  {
   "cell_type": "code",
   "execution_count": 69,
   "id": "8a352bea-8069-4614-a2a8-0f71bc7821a8",
   "metadata": {},
   "outputs": [
    {
     "data": {
      "text/plain": [
       "[0,\n",
       " 1,\n",
       " 8,\n",
       " 27,\n",
       " 64,\n",
       " 125,\n",
       " 216,\n",
       " 343,\n",
       " 512,\n",
       " 729,\n",
       " 1000,\n",
       " 1331,\n",
       " 1728,\n",
       " 2197,\n",
       " 2744,\n",
       " 3375,\n",
       " 4096,\n",
       " 4913,\n",
       " 5832,\n",
       " 6859,\n",
       " 8000]"
      ]
     },
     "execution_count": 69,
     "metadata": {},
     "output_type": "execute_result"
    }
   ],
   "source": [
    "lst = [i**3 for i in range (21)]\n",
    "lst"
   ]
  },
  {
   "cell_type": "markdown",
   "id": "1cc82852-2fd1-4873-8d08-b47c896be6b6",
   "metadata": {},
   "source": [
    "    DOUBLE LOOP"
   ]
  },
  {
   "cell_type": "code",
   "execution_count": 72,
   "id": "fb27bb3c-5cd1-4ca6-a85d-50b37ea7c46d",
   "metadata": {},
   "outputs": [
    {
     "name": "stdout",
     "output_type": "stream",
     "text": [
      "i=0 j=0\n",
      "i=0 j=1\n",
      "i=0 j=2\n",
      "i=0 j=3\n",
      "i=0 j=4\n",
      "i=1 j=0\n",
      "i=1 j=1\n",
      "i=1 j=2\n",
      "i=1 j=3\n",
      "i=1 j=4\n",
      "i=2 j=0\n",
      "i=2 j=1\n",
      "i=2 j=2\n",
      "i=2 j=3\n",
      "i=2 j=4\n",
      "i=3 j=0\n",
      "i=3 j=1\n",
      "i=3 j=2\n",
      "i=3 j=3\n",
      "i=3 j=4\n",
      "i=4 j=0\n",
      "i=4 j=1\n",
      "i=4 j=2\n",
      "i=4 j=3\n",
      "i=4 j=4\n"
     ]
    }
   ],
   "source": [
    "for i in range (5):\n",
    "    for j in range (5):\n",
    "        print('i={} j={}'.format(i,j))"
   ]
  },
  {
   "cell_type": "markdown",
   "id": "931be82b-d6b4-4fea-b405-662b14236a90",
   "metadata": {},
   "source": [
    "BOOLEANS AND IF STATEMENTS"
   ]
  },
  {
   "cell_type": "code",
   "execution_count": 81,
   "id": "9139b9d7-d8d5-4c30-a005-bae5ebd3bdc0",
   "metadata": {},
   "outputs": [],
   "source": [
    "a = True\n",
    "b = False"
   ]
  },
  {
   "cell_type": "code",
   "execution_count": 82,
   "id": "9b9ad5ba-42bc-4089-8fe5-60075c7ac7b6",
   "metadata": {},
   "outputs": [
    {
     "name": "stdout",
     "output_type": "stream",
     "text": [
      "yes\n"
     ]
    }
   ],
   "source": [
    "if a or b:\n",
    "    print('yes')"
   ]
  },
  {
   "cell_type": "code",
   "execution_count": 90,
   "id": "8aa60087-46c2-4211-8c2b-30c509c96493",
   "metadata": {},
   "outputs": [],
   "source": [
    "i = 1\n",
    "j = 0"
   ]
  },
  {
   "cell_type": "code",
   "execution_count": 91,
   "id": "7797bead-9ddf-4cb9-97f8-5b893fb4a996",
   "metadata": {},
   "outputs": [
    {
     "name": "stdout",
     "output_type": "stream",
     "text": [
      "yes\n"
     ]
    }
   ],
   "source": [
    "if i!=0 or j==0:\n",
    "    print('yes')"
   ]
  },
  {
   "cell_type": "code",
   "execution_count": 97,
   "id": "5d0fd83b-6196-4564-8516-d54bf3ffa898",
   "metadata": {},
   "outputs": [
    {
     "name": "stdout",
     "output_type": "stream",
     "text": [
      "yes\n"
     ]
    }
   ],
   "source": [
    "if 'at' in 'cat'and i==1:\n",
    "    print('yes')\n",
    "elif 'at' in 'cat':\n",
    "    print('only condition 1 true')\n",
    "else:\n",
    "    print('no')"
   ]
  },
  {
   "cell_type": "markdown",
   "id": "51e01c17-86c3-47a4-8408-d48bbc25aec1",
   "metadata": {},
   "source": [
    "PROBLEM 1"
   ]
  },
  {
   "cell_type": "code",
   "execution_count": 98,
   "id": "1b7a3674-21e0-4919-8fbd-c13c0d6318fc",
   "metadata": {},
   "outputs": [],
   "source": [
    "t = np.linspace(0, 2, 100)\n",
    "g = 9.81\n",
    "v0_j = 10\n",
    "v0_m = 15"
   ]
  },
  {
   "cell_type": "code",
   "execution_count": 99,
   "id": "1fb6724f-a5fd-4342-a329-3d161d9afd5e",
   "metadata": {},
   "outputs": [],
   "source": [
    "y_j = -1/2 * g * t**2 + v0_j*t\n",
    "y_m = -1/2 * g * t**2 + v0_m*t"
   ]
  },
  {
   "cell_type": "code",
   "execution_count": 106,
   "id": "28381a81-ef45-4317-bba1-bb01d49a9555",
   "metadata": {},
   "outputs": [
    {
     "name": "stderr",
     "output_type": "stream",
     "text": [
      "No artists with labels found to put in legend.  Note that artists whose label start with an underscore are ignored when legend() is called with no argument.\n"
     ]
    },
    {
     "data": {
      "text/plain": [
       "<matplotlib.legend.Legend at 0x1a968c20400>"
      ]
     },
     "execution_count": 106,
     "metadata": {},
     "output_type": "execute_result"
    },
    {
     "data": {
      "image/png": "[encoded data removed]",
      "text/plain": [
       "<Figure size 640x480 with 1 Axes>"
      ]
     },
     "metadata": {},
     "output_type": "display_data"
    }
   ],
   "source": [
    "plt.plot(t, y_j)\n",
    "plt.plot(t, y_m)\n",
    "plt.xlabel('Time')\n",
    "plt.ylabel('Height')\n",
    "plt.grid()\n",
    "plt.legend()"
   ]
  }
 ],
 "metadata": {
  "kernelspec": {
   "display_name": "Python 3 (ipykernel)",
   "language": "python",
   "name": "python3"
  },
  "language_info": {
   "codemirror_mode": {
    "name": "ipython",
    "version": 3
   },
   "file_extension": ".py",
   "mimetype": "text/x-python",
   "name": "python",
   "nbconvert_exporter": "python",
   "pygments_lexer": "ipython3",
   "version": "3.9.13"
  }
 },
 "nbformat": 4,
 "nbformat_minor": 5
}
